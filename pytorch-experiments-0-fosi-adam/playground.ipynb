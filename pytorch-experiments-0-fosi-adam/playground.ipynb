{
 "cells": [
  {
   "cell_type": "code",
   "execution_count": 1,
   "metadata": {},
   "outputs": [
    {
     "name": "stderr",
     "output_type": "stream",
     "text": [
      "/Users/pavlospoulos/miniconda3/envs/pavlosEnv/lib/python3.12/site-packages/tqdm/auto.py:21: TqdmWarning: IProgress not found. Please update jupyter and ipywidgets. See https://ipywidgets.readthedocs.io/en/stable/user_install.html\n",
      "  from .autonotebook import tqdm as notebook_tqdm\n",
      "[2024-03-21 17:48:44,849] torch.distributed.elastic.multiprocessing.redirects: [WARNING] NOTE: Redirects are currently not supported in Windows or MacOs.\n",
      "Some weights of DistilBertForSequenceClassification were not initialized from the model checkpoint at distilbert-base-uncased and are newly initialized: ['classifier.bias', 'classifier.weight', 'pre_classifier.bias', 'pre_classifier.weight']\n",
      "You should probably TRAIN this model on a down-stream task to be able to use it for predictions and inference.\n"
     ]
    }
   ],
   "source": [
    "import torch\n",
    "import torchvision.transforms as transforms\n",
    "from torch.utils.data.dataloader import default_collate\n",
    "from transformers import AutoModelForSequenceClassification, AutoTokenizer, DataCollatorWithPadding, Trainer, TrainingArguments\n",
    "from torch.optim import Adam\n",
    "import torch.nn as nn\n",
    "import torchopt\n",
    "import functorch\n",
    "\n",
    "from datasets import load_dataset\n",
    "from fosi import fosi_adam_torch\n",
    "\n",
    "# Set device\n",
    "device = torch.device(\"cuda\" if torch.cuda.is_available() else \"cpu\")\n",
    "\n",
    "# Load pre-trained DistilBERT model and tokenizer\n",
    "model = AutoModelForSequenceClassification.from_pretrained('distilbert-base-uncased', num_labels=2)\n",
    "tokenizer = AutoTokenizer.from_pretrained('distilbert-base-uncased')"
   ]
  },
  {
   "cell_type": "code",
   "execution_count": 2,
   "metadata": {},
   "outputs": [
    {
     "name": "stderr",
     "output_type": "stream",
     "text": [
      "Map: 100%|██████████| 1043/1043 [00:00<00:00, 5588.21 examples/s]\n"
     ]
    }
   ],
   "source": [
    "\n",
    "# Define a function to preprocess the dataset\n",
    "def prepare_dataset(example):\n",
    "    return tokenizer(example['sentence'], truncation=True, padding=\"max_length\", return_tensors='pt')\n",
    "\n",
    "data_collator = DataCollatorWithPadding(tokenizer=tokenizer, padding=True)\n",
    "\n",
    "# Define a sample dataset (replace this with your custom dataset)\n",
    "# Example: IMDB movie review dataset\n",
    "dataset = load_dataset('glue', 'cola').map(prepare_dataset, batched=True)\n",
    "\n",
    "# Split dataset into train and test sets\n",
    "train_dataset = dataset['train'].remove_columns(['sentence', 'idx']).rename_column('label', 'labels')\n",
    "\n",
    "test_dataset = dataset['test'].remove_columns(['sentence', 'idx']).rename_column('label', 'labels')\n"
   ]
  },
  {
   "cell_type": "code",
   "execution_count": 3,
   "metadata": {},
   "outputs": [
    {
     "data": {
      "text/plain": [
       "Dataset({\n",
       "    features: ['labels', 'input_ids', 'attention_mask'],\n",
       "    num_rows: 8551\n",
       "})"
      ]
     },
     "execution_count": 3,
     "metadata": {},
     "output_type": "execute_result"
    }
   ],
   "source": [
    "train_dataset"
   ]
  },
  {
   "cell_type": "code",
   "execution_count": 4,
   "metadata": {},
   "outputs": [
    {
     "name": "stderr",
     "output_type": "stream",
     "text": [
      "/Users/pavlospoulos/miniconda3/envs/pavlosEnv/lib/python3.12/site-packages/torch/_functorch/deprecated.py:104: UserWarning: We've integrated functorch into PyTorch. As the final step of the integration, functorch.make_functional_with_buffers is deprecated as of PyTorch 2.0 and will be deleted in a future version of PyTorch >= 2.3. Please use torch.func.functional_call instead; see the PyTorch 2.0 release notes and/or the torch.func migration guide for more details https://pytorch.org/docs/master/func.migrating.html\n",
      "  warn_deprecated('make_functional_with_buffers', 'torch.func.functional_call')\n"
     ]
    },
    {
     "name": "stdout",
     "output_type": "stream",
     "text": [
      "Returned ESE function. Lanczos order (m) is 20 .\n"
     ]
    }
   ],
   "source": [
    "# Define data loaders\n",
    "batch_size = 8\n",
    "trainloader = torch.utils.data.DataLoader(train_dataset, batch_size=batch_size, shuffle=True, collate_fn=data_collator)\n",
    "testloader = torch.utils.data.DataLoader(test_dataset, batch_size=batch_size, shuffle=False, collate_fn=data_collator)\n",
    "\n",
    "# Define loss function\n",
    "loss_fn = torch.nn.CrossEntropyLoss()\n",
    "\n",
    "# Define optimizer\n",
    "base_optimizer = torchopt.adam(lr=0.001)\n",
    "optimizer = fosi_adam_torch(base_optimizer, loss_fn, next(iter(trainloader)), num_iters_to_approx_eigs=500, alpha=0.01)\n",
    "model, params, buffers = functorch.make_functional_with_buffers(model=model)\n"
   ]
  },
  {
   "cell_type": "code",
   "execution_count": 13,
   "metadata": {},
   "outputs": [
    {
     "data": {
      "text/plain": [
       "('distilbert.embeddings.word_embeddings.weight',\n",
       " 'distilbert.embeddings.position_embeddings.weight',\n",
       " 'distilbert.embeddings.LayerNorm.weight',\n",
       " 'distilbert.embeddings.LayerNorm.bias',\n",
       " 'distilbert.transformer.layer.0.attention.q_lin.weight',\n",
       " 'distilbert.transformer.layer.0.attention.q_lin.bias',\n",
       " 'distilbert.transformer.layer.0.attention.k_lin.weight',\n",
       " 'distilbert.transformer.layer.0.attention.k_lin.bias',\n",
       " 'distilbert.transformer.layer.0.attention.v_lin.weight',\n",
       " 'distilbert.transformer.layer.0.attention.v_lin.bias',\n",
       " 'distilbert.transformer.layer.0.attention.out_lin.weight',\n",
       " 'distilbert.transformer.layer.0.attention.out_lin.bias',\n",
       " 'distilbert.transformer.layer.0.sa_layer_norm.weight',\n",
       " 'distilbert.transformer.layer.0.sa_layer_norm.bias',\n",
       " 'distilbert.transformer.layer.0.ffn.lin1.weight',\n",
       " 'distilbert.transformer.layer.0.ffn.lin1.bias',\n",
       " 'distilbert.transformer.layer.0.ffn.lin2.weight',\n",
       " 'distilbert.transformer.layer.0.ffn.lin2.bias',\n",
       " 'distilbert.transformer.layer.0.output_layer_norm.weight',\n",
       " 'distilbert.transformer.layer.0.output_layer_norm.bias',\n",
       " 'distilbert.transformer.layer.1.attention.q_lin.weight',\n",
       " 'distilbert.transformer.layer.1.attention.q_lin.bias',\n",
       " 'distilbert.transformer.layer.1.attention.k_lin.weight',\n",
       " 'distilbert.transformer.layer.1.attention.k_lin.bias',\n",
       " 'distilbert.transformer.layer.1.attention.v_lin.weight',\n",
       " 'distilbert.transformer.layer.1.attention.v_lin.bias',\n",
       " 'distilbert.transformer.layer.1.attention.out_lin.weight',\n",
       " 'distilbert.transformer.layer.1.attention.out_lin.bias',\n",
       " 'distilbert.transformer.layer.1.sa_layer_norm.weight',\n",
       " 'distilbert.transformer.layer.1.sa_layer_norm.bias',\n",
       " 'distilbert.transformer.layer.1.ffn.lin1.weight',\n",
       " 'distilbert.transformer.layer.1.ffn.lin1.bias',\n",
       " 'distilbert.transformer.layer.1.ffn.lin2.weight',\n",
       " 'distilbert.transformer.layer.1.ffn.lin2.bias',\n",
       " 'distilbert.transformer.layer.1.output_layer_norm.weight',\n",
       " 'distilbert.transformer.layer.1.output_layer_norm.bias',\n",
       " 'distilbert.transformer.layer.2.attention.q_lin.weight',\n",
       " 'distilbert.transformer.layer.2.attention.q_lin.bias',\n",
       " 'distilbert.transformer.layer.2.attention.k_lin.weight',\n",
       " 'distilbert.transformer.layer.2.attention.k_lin.bias',\n",
       " 'distilbert.transformer.layer.2.attention.v_lin.weight',\n",
       " 'distilbert.transformer.layer.2.attention.v_lin.bias',\n",
       " 'distilbert.transformer.layer.2.attention.out_lin.weight',\n",
       " 'distilbert.transformer.layer.2.attention.out_lin.bias',\n",
       " 'distilbert.transformer.layer.2.sa_layer_norm.weight',\n",
       " 'distilbert.transformer.layer.2.sa_layer_norm.bias',\n",
       " 'distilbert.transformer.layer.2.ffn.lin1.weight',\n",
       " 'distilbert.transformer.layer.2.ffn.lin1.bias',\n",
       " 'distilbert.transformer.layer.2.ffn.lin2.weight',\n",
       " 'distilbert.transformer.layer.2.ffn.lin2.bias',\n",
       " 'distilbert.transformer.layer.2.output_layer_norm.weight',\n",
       " 'distilbert.transformer.layer.2.output_layer_norm.bias',\n",
       " 'distilbert.transformer.layer.3.attention.q_lin.weight',\n",
       " 'distilbert.transformer.layer.3.attention.q_lin.bias',\n",
       " 'distilbert.transformer.layer.3.attention.k_lin.weight',\n",
       " 'distilbert.transformer.layer.3.attention.k_lin.bias',\n",
       " 'distilbert.transformer.layer.3.attention.v_lin.weight',\n",
       " 'distilbert.transformer.layer.3.attention.v_lin.bias',\n",
       " 'distilbert.transformer.layer.3.attention.out_lin.weight',\n",
       " 'distilbert.transformer.layer.3.attention.out_lin.bias',\n",
       " 'distilbert.transformer.layer.3.sa_layer_norm.weight',\n",
       " 'distilbert.transformer.layer.3.sa_layer_norm.bias',\n",
       " 'distilbert.transformer.layer.3.ffn.lin1.weight',\n",
       " 'distilbert.transformer.layer.3.ffn.lin1.bias',\n",
       " 'distilbert.transformer.layer.3.ffn.lin2.weight',\n",
       " 'distilbert.transformer.layer.3.ffn.lin2.bias',\n",
       " 'distilbert.transformer.layer.3.output_layer_norm.weight',\n",
       " 'distilbert.transformer.layer.3.output_layer_norm.bias',\n",
       " 'distilbert.transformer.layer.4.attention.q_lin.weight',\n",
       " 'distilbert.transformer.layer.4.attention.q_lin.bias',\n",
       " 'distilbert.transformer.layer.4.attention.k_lin.weight',\n",
       " 'distilbert.transformer.layer.4.attention.k_lin.bias',\n",
       " 'distilbert.transformer.layer.4.attention.v_lin.weight',\n",
       " 'distilbert.transformer.layer.4.attention.v_lin.bias',\n",
       " 'distilbert.transformer.layer.4.attention.out_lin.weight',\n",
       " 'distilbert.transformer.layer.4.attention.out_lin.bias',\n",
       " 'distilbert.transformer.layer.4.sa_layer_norm.weight',\n",
       " 'distilbert.transformer.layer.4.sa_layer_norm.bias',\n",
       " 'distilbert.transformer.layer.4.ffn.lin1.weight',\n",
       " 'distilbert.transformer.layer.4.ffn.lin1.bias',\n",
       " 'distilbert.transformer.layer.4.ffn.lin2.weight',\n",
       " 'distilbert.transformer.layer.4.ffn.lin2.bias',\n",
       " 'distilbert.transformer.layer.4.output_layer_norm.weight',\n",
       " 'distilbert.transformer.layer.4.output_layer_norm.bias',\n",
       " 'distilbert.transformer.layer.5.attention.q_lin.weight',\n",
       " 'distilbert.transformer.layer.5.attention.q_lin.bias',\n",
       " 'distilbert.transformer.layer.5.attention.k_lin.weight',\n",
       " 'distilbert.transformer.layer.5.attention.k_lin.bias',\n",
       " 'distilbert.transformer.layer.5.attention.v_lin.weight',\n",
       " 'distilbert.transformer.layer.5.attention.v_lin.bias',\n",
       " 'distilbert.transformer.layer.5.attention.out_lin.weight',\n",
       " 'distilbert.transformer.layer.5.attention.out_lin.bias',\n",
       " 'distilbert.transformer.layer.5.sa_layer_norm.weight',\n",
       " 'distilbert.transformer.layer.5.sa_layer_norm.bias',\n",
       " 'distilbert.transformer.layer.5.ffn.lin1.weight',\n",
       " 'distilbert.transformer.layer.5.ffn.lin1.bias',\n",
       " 'distilbert.transformer.layer.5.ffn.lin2.weight',\n",
       " 'distilbert.transformer.layer.5.ffn.lin2.bias',\n",
       " 'distilbert.transformer.layer.5.output_layer_norm.weight',\n",
       " 'distilbert.transformer.layer.5.output_layer_norm.bias',\n",
       " 'pre_classifier.weight',\n",
       " 'pre_classifier.bias',\n",
       " 'classifier.weight',\n",
       " 'classifier.bias')"
      ]
     },
     "execution_count": 13,
     "metadata": {},
     "output_type": "execute_result"
    }
   ],
   "source": [
    "model.param_names"
   ]
  },
  {
   "cell_type": "code",
   "execution_count": 6,
   "metadata": {},
   "outputs": [],
   "source": [
    "opt_state = optimizer.init(params)"
   ]
  },
  {
   "cell_type": "code",
   "execution_count": 25,
   "metadata": {},
   "outputs": [],
   "source": [
    "# def loss_fn(params, batch):\n",
    "#     preds = model(params, batch['input_ids'], batch['attention_mask']).logits\n",
    "#     loss = nn.CrossEntropyLoss()(preds, batch)\n",
    "#     return loss\n",
    "\n",
    "def loss_fn(params, buffers, input_ids, attention_mask, labels):\n",
    "    logits = model(params, buffers=buffers, input_ids=input_ids, attention_mask=attention_mask).logits\n",
    "    loss = nn.CrossEntropyLoss()(logits, labels)\n",
    "    return loss"
   ]
  },
  {
   "cell_type": "code",
   "execution_count": 26,
   "metadata": {},
   "outputs": [],
   "source": [
    "def accuracy(params, buffers, input_ids, attention_mask, labels):\n",
    "    preds = model(params, buffers=buffers, input_ids=input_ids, attention_mask=attention_mask).logits\n",
    "    predicted_class = torch.argmax(preds, dim=1)\n",
    "    return torch.sum(predicted_class == batch[1])"
   ]
  },
  {
   "cell_type": "code",
   "execution_count": 28,
   "metadata": {},
   "outputs": [
    {
     "ename": "KeyboardInterrupt",
     "evalue": "",
     "output_type": "error",
     "traceback": [
      "\u001b[0;31m---------------------------------------------------------------------------\u001b[0m",
      "\u001b[0;31mKeyboardInterrupt\u001b[0m                         Traceback (most recent call last)",
      "Cell \u001b[0;32mIn[28], line 20\u001b[0m\n\u001b[1;32m     15\u001b[0m \u001b[38;5;66;03m# optimizer.zero_grad()\u001b[39;00m\n\u001b[1;32m     16\u001b[0m \u001b[38;5;66;03m# outputs = model(input_ids, attention_mask=attention_mask, labels=label)\u001b[39;00m\n\u001b[1;32m     18\u001b[0m loss \u001b[38;5;241m=\u001b[39m loss_fn(params\u001b[38;5;241m=\u001b[39mparams, buffers\u001b[38;5;241m=\u001b[39mbuffers, input_ids\u001b[38;5;241m=\u001b[39minput_ids, attention_mask\u001b[38;5;241m=\u001b[39mattention_mask, labels\u001b[38;5;241m=\u001b[39mlabel)\n\u001b[0;32m---> 20\u001b[0m grads \u001b[38;5;241m=\u001b[39m \u001b[43mtorch\u001b[49m\u001b[38;5;241;43m.\u001b[39;49m\u001b[43mautograd\u001b[49m\u001b[38;5;241;43m.\u001b[39;49m\u001b[43mgrad\u001b[49m\u001b[43m(\u001b[49m\u001b[43mloss\u001b[49m\u001b[43m,\u001b[49m\u001b[43m \u001b[49m\u001b[43mparams\u001b[49m\u001b[43m)\u001b[49m\n\u001b[1;32m     21\u001b[0m updates, opt_state \u001b[38;5;241m=\u001b[39m optimizer\u001b[38;5;241m.\u001b[39mupdate(grads, opt_state, params)\n\u001b[1;32m     22\u001b[0m params \u001b[38;5;241m=\u001b[39m torchopt\u001b[38;5;241m.\u001b[39mapply_updates(params, updates, inplace\u001b[38;5;241m=\u001b[39m\u001b[38;5;28;01mTrue\u001b[39;00m)\n",
      "File \u001b[0;32m~/miniconda3/envs/pavlosEnv/lib/python3.12/site-packages/torch/autograd/__init__.py:411\u001b[0m, in \u001b[0;36mgrad\u001b[0;34m(outputs, inputs, grad_outputs, retain_graph, create_graph, only_inputs, allow_unused, is_grads_batched, materialize_grads)\u001b[0m\n\u001b[1;32m    407\u001b[0m     result \u001b[38;5;241m=\u001b[39m _vmap_internals\u001b[38;5;241m.\u001b[39m_vmap(vjp, \u001b[38;5;241m0\u001b[39m, \u001b[38;5;241m0\u001b[39m, allow_none_pass_through\u001b[38;5;241m=\u001b[39m\u001b[38;5;28;01mTrue\u001b[39;00m)(\n\u001b[1;32m    408\u001b[0m         grad_outputs_\n\u001b[1;32m    409\u001b[0m     )\n\u001b[1;32m    410\u001b[0m \u001b[38;5;28;01melse\u001b[39;00m:\n\u001b[0;32m--> 411\u001b[0m     result \u001b[38;5;241m=\u001b[39m \u001b[43mVariable\u001b[49m\u001b[38;5;241;43m.\u001b[39;49m\u001b[43m_execution_engine\u001b[49m\u001b[38;5;241;43m.\u001b[39;49m\u001b[43mrun_backward\u001b[49m\u001b[43m(\u001b[49m\u001b[43m  \u001b[49m\u001b[38;5;66;43;03m# Calls into the C++ engine to run the backward pass\u001b[39;49;00m\n\u001b[1;32m    412\u001b[0m \u001b[43m        \u001b[49m\u001b[43mt_outputs\u001b[49m\u001b[43m,\u001b[49m\n\u001b[1;32m    413\u001b[0m \u001b[43m        \u001b[49m\u001b[43mgrad_outputs_\u001b[49m\u001b[43m,\u001b[49m\n\u001b[1;32m    414\u001b[0m \u001b[43m        \u001b[49m\u001b[43mretain_graph\u001b[49m\u001b[43m,\u001b[49m\n\u001b[1;32m    415\u001b[0m \u001b[43m        \u001b[49m\u001b[43mcreate_graph\u001b[49m\u001b[43m,\u001b[49m\n\u001b[1;32m    416\u001b[0m \u001b[43m        \u001b[49m\u001b[43minputs\u001b[49m\u001b[43m,\u001b[49m\n\u001b[1;32m    417\u001b[0m \u001b[43m        \u001b[49m\u001b[43mallow_unused\u001b[49m\u001b[43m,\u001b[49m\n\u001b[1;32m    418\u001b[0m \u001b[43m        \u001b[49m\u001b[43maccumulate_grad\u001b[49m\u001b[38;5;241;43m=\u001b[39;49m\u001b[38;5;28;43;01mFalse\u001b[39;49;00m\u001b[43m,\u001b[49m\n\u001b[1;32m    419\u001b[0m \u001b[43m    \u001b[49m\u001b[43m)\u001b[49m  \u001b[38;5;66;03m# Calls into the C++ engine to run the backward pass\u001b[39;00m\n\u001b[1;32m    420\u001b[0m \u001b[38;5;28;01mif\u001b[39;00m materialize_grads:\n\u001b[1;32m    421\u001b[0m     \u001b[38;5;28;01mif\u001b[39;00m \u001b[38;5;28many\u001b[39m(\n\u001b[1;32m    422\u001b[0m         result[i] \u001b[38;5;129;01mis\u001b[39;00m \u001b[38;5;28;01mNone\u001b[39;00m \u001b[38;5;129;01mand\u001b[39;00m \u001b[38;5;129;01mnot\u001b[39;00m is_tensor_like(inputs[i])\n\u001b[1;32m    423\u001b[0m         \u001b[38;5;28;01mfor\u001b[39;00m i \u001b[38;5;129;01min\u001b[39;00m \u001b[38;5;28mrange\u001b[39m(\u001b[38;5;28mlen\u001b[39m(inputs))\n\u001b[1;32m    424\u001b[0m     ):\n",
      "\u001b[0;31mKeyboardInterrupt\u001b[0m: "
     ]
    }
   ],
   "source": [
    "# Get first batch of data\n",
    "data = next(iter(train_dataset))\n",
    "input_ids = data['input_ids']\n",
    "attention_mask = data['attention_mask']\n",
    "\n",
    "# Train the model\n",
    "model.train()\n",
    "for epoch in range(3):\n",
    "    \n",
    "    running_loss = 0.0\n",
    "    for i, data in enumerate(trainloader, 0):\n",
    "        input_ids = data['input_ids']\n",
    "        attention_mask = data['attention_mask']\n",
    "        label = data['labels']\n",
    "        # optimizer.zero_grad()\n",
    "        # outputs = model(input_ids, attention_mask=attention_mask, labels=label)\n",
    "        \n",
    "        loss = loss_fn(params=params, buffers=buffers, input_ids=input_ids, attention_mask=attention_mask, labels=label)\n",
    "        \n",
    "        grads = torch.autograd.grad(loss, params)\n",
    "        updates, opt_state = optimizer.update(grads, opt_state, params)\n",
    "        params = torchopt.apply_updates(params, updates, inplace=True)\n",
    "\n",
    "        # print statistics\n",
    "        running_loss += loss.item()\n",
    "        if (i + 1) % 100 == 0:\n",
    "            print(f'[{epoch + 1}, {i + 1:5d}] loss: {running_loss / 100:.3f}')\n",
    "            running_loss = 0.0\n",
    "\n",
    "    acc = 0.0\n",
    "    num_samples = 0\n",
    "    for i, batch in enumerate(testloader, 0):\n",
    "        acc += accuracy(params, batch)\n",
    "        num_samples += batch[0].shape[0]\n",
    "    acc /= num_samples\n",
    "    print(f'Test accuracy: {acc}')\n",
    "\n",
    "print('Finished Training')\n"
   ]
  },
  {
   "cell_type": "code",
   "execution_count": null,
   "metadata": {},
   "outputs": [],
   "source": [
    "# # Define training loop\n",
    "# for epoch in range(3):  # Adjust number of epochs as needed\n",
    "#     model.train()\n",
    "#     for i, batch in enumerate(train_dataset):\n",
    "#         input_ids = batch['input_ids']\n",
    "#         attention_mask = batch['attention_mask']\n",
    "#         labels = batch['label']\n",
    "        \n",
    "#         #This is taking care automatically\n",
    "#         # optimizer.zero_grad() This is taking care automatically\n",
    "\n",
    "#         outputs = model(input_ids=input_ids, attention_mask=attention_mask, labels=labels)\n",
    "#         loss = outputs.loss\n",
    "#         loss.backward()\n",
    "#         optimizer.step()\n",
    "\n",
    "#         # if (i + 1) % 100 == 0:\n",
    "#         #     print(f'[{epoch + 1}, {i + 1:5d}] loss: {loss.item():.3f}')\n",
    "\n",
    "#     # Evaluate on test set\n",
    "#     model.eval()\n",
    "#     total = 0\n",
    "#     correct = 0\n",
    "#     with torch.no_grad():\n",
    "#         for batch in test_dataset:\n",
    "#             input_ids = batch['input_ids']\n",
    "#             attention_mask = batch['attention_mask']\n",
    "#             labels = batch['label']\n",
    "#             print(\"Labels: \\n\", labels)\n",
    "            \n",
    "#             outputs = model(input_ids, attention_mask=attention_mask, labels=labels)\n",
    "#             logits = outputs.logits\n",
    "#             _, predicted = torch.max(logits, 1)\n",
    "#             total += labels.size(0)\n",
    "#             correct += (predicted == labels).sum().item()\n",
    "\n",
    "#     accuracy = correct / total\n",
    "#     print(f'Test accuracy: {accuracy:.4f}')\n",
    "\n",
    "# print('Finished Training')\n"
   ]
  },
  {
   "cell_type": "code",
   "execution_count": null,
   "metadata": {},
   "outputs": [],
   "source": []
  }
 ],
 "metadata": {
  "kernelspec": {
   "display_name": "pavlosEnv",
   "language": "python",
   "name": "python3"
  },
  "language_info": {
   "codemirror_mode": {
    "name": "ipython",
    "version": 3
   },
   "file_extension": ".py",
   "mimetype": "text/x-python",
   "name": "python",
   "nbconvert_exporter": "python",
   "pygments_lexer": "ipython3",
   "version": "3.12.2"
  }
 },
 "nbformat": 4,
 "nbformat_minor": 2
}
